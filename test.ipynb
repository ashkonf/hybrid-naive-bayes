{
 "cells": [
  {
   "cell_type": "markdown",
   "metadata": {},
   "source": [
    "# German Credit Data - Naive Bayes Classifier Test\n",
    "\n",
    "This notebook demonstrates the training and testing of a hybrid Naive Bayes classifier on the German Credit dataset. It was migrated from `src/test.py`.\n",
    "\n"
   ]
  },
  {
   "cell_type": "code",
   "execution_count": 1,
   "metadata": {},
   "outputs": [],
   "source": [
    "from __future__ import annotations\n",
    "\n",
    "import sys\n",
    "from typing import List, Tuple\n",
    "\n",
    "sys.path.append(\"src\")\n",
    "\n",
    "import requests\n",
    "import nb\n",
    "import distributions\n",
    "import logging"
   ]
  },
  {
   "cell_type": "code",
   "execution_count": 2,
   "metadata": {},
   "outputs": [],
   "source": [
    "def load_data() -> (\n",
    "    Tuple[Tuple[List[List[str]], List[str]], Tuple[List[List[str]], List[str]]]\n",
    "):\n",
    "    # Loading, formatting and partitioning the data set:\n",
    "\n",
    "    # This data set is described here: https://archive.ics.uci.edu/ml/datasets/Statlog+(German+Credit+Data)\n",
    "    raw_data = requests.get(\n",
    "        \"https://archive.ics.uci.edu/ml/machine-learning-databases/statlog/german/german.data\"\n",
    "    ).text.strip()\n",
    "\n",
    "    lines = raw_data.split(\"\\n\")\n",
    "    value_matrix = [line.split() for line in lines]\n",
    "    data_points = [values[:-1] for values in value_matrix]\n",
    "    labels = [values[-1] for values in value_matrix]\n",
    "\n",
    "    data_set_slice = len(data_points) // 2\n",
    "    training_set = (data_points[:data_set_slice], labels[:data_set_slice])\n",
    "    test_set = (data_points[data_set_slice:], labels[data_set_slice:])\n",
    "\n",
    "    return (training_set, test_set)"
   ]
  },
  {
   "cell_type": "code",
   "execution_count": 3,
   "metadata": {},
   "outputs": [],
   "source": [
    "def featurizer(data_point: List[str]) -> List[nb.Feature]:\n",
    "    # Massaging a data point into the format the NB classifier implementation expects of feature vectors:\n",
    "\n",
    "    return [\n",
    "        # Bucketed and therefore categorical:\n",
    "        nb.Feature(\"Checking account status\", distributions.Multinomial, data_point[0]),\n",
    "        # Continuous and probably follows a power law distribution:\n",
    "        nb.Feature(\n",
    "            \"Duration in months\", distributions.Exponential, float(data_point[1])\n",
    "        ),\n",
    "        # Categorical:\n",
    "        nb.Feature(\"Credit history\", distributions.Multinomial, data_point[2]),\n",
    "        # Categorical:\n",
    "        nb.Feature(\"Purpose\", distributions.Multinomial, data_point[3]),\n",
    "        # Continuous and probably conforms to an approximate power law distribution:\n",
    "        nb.Feature(\"Credit amount\", distributions.Gaussian, float(data_point[4])),\n",
    "        # Bucketed and therefore categorical:\n",
    "        nb.Feature(\"Savings account status\", distributions.Multinomial, data_point[5]),\n",
    "        # Bucketed and therefore categorical:\n",
    "        nb.Feature(\"Unemployment duration\", distributions.Multinomial, data_point[6]),\n",
    "        # Continuous and probably conforms to an approximate power law distribution:\n",
    "        nb.Feature(\"Installment rate\", distributions.Gaussian, float(data_point[7])),\n",
    "        # Categorical:\n",
    "        nb.Feature(\"Personal status\", distributions.Multinomial, data_point[8]),\n",
    "        # Categorical:\n",
    "        nb.Feature(\"Other debtors\", distributions.Multinomial, data_point[9]),\n",
    "        # Continuous and probably conforms to an approximate power law distribution:\n",
    "        nb.Feature(\n",
    "            \"Present residence\", distributions.Exponential, float(data_point[10])\n",
    "        ),\n",
    "        # Categorical:\n",
    "        nb.Feature(\"Property status\", distributions.Multinomial, data_point[11]),\n",
    "        # Continuous and probably conforms to an approximate power law distribution:\n",
    "        nb.Feature(\"Age\", distributions.Gaussian, float(data_point[12])),\n",
    "        # Categorical:\n",
    "        nb.Feature(\n",
    "            \"Other installment plans\", distributions.Multinomial, data_point[13]\n",
    "        ),\n",
    "        # Categorical:\n",
    "        nb.Feature(\"Housing\", distributions.Multinomial, data_point[14]),\n",
    "        # Continuous and probably conforms to an approximate power law distribution:\n",
    "        nb.Feature(\n",
    "            \"Number of credit cards\", distributions.Exponential, float(data_point[15])\n",
    "        ),\n",
    "        # Categorical:\n",
    "        nb.Feature(\"Job\", distributions.Multinomial, data_point[16]),\n",
    "        # Continuous and probably conforms to an approximate power law distribution:\n",
    "        nb.Feature(\n",
    "            \"Number of people liable\", distributions.Exponential, float(data_point[17])\n",
    "        ),\n",
    "        # Categorical:\n",
    "        nb.Feature(\"Telephone\", distributions.Multinomial, data_point[18]),\n",
    "        # Categorical:\n",
    "        nb.Feature(\"Foreign worker\", distributions.Multinomial, data_point[19]),\n",
    "    ]"
   ]
  },
  {
   "cell_type": "code",
   "execution_count": 4,
   "metadata": {},
   "outputs": [
    {
     "name": "stderr",
     "output_type": "stream",
     "text": [
      "INFO:root:Accuracy = 0.704\n"
     ]
    }
   ],
   "source": [
    "# Creating, training and testing the classifier:\n",
    "logging.basicConfig(level=logging.INFO)\n",
    "training_set, test_set = load_data()\n",
    "classifier = nb.NaiveBayesClassifier(featurizer)\n",
    "classifier.train(training_set[0], training_set[1])\n",
    "logging.info(f\"Accuracy = {classifier.accuracy(test_set[0], test_set[1])}\")"
   ]
  }
 ],
 "metadata": {
  "kernelspec": {
   "display_name": ".venv",
   "language": "python",
   "name": "python3"
  },
  "language_info": {
   "codemirror_mode": {
    "name": "ipython",
    "version": 3
   },
   "file_extension": ".py",
   "mimetype": "text/x-python",
   "name": "python",
   "nbconvert_exporter": "python",
   "pygments_lexer": "ipython3",
   "version": "3.12.3"
  }
 },
 "nbformat": 4,
 "nbformat_minor": 2
}
